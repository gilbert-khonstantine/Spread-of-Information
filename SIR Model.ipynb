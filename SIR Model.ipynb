{
 "cells": [
  {
   "cell_type": "code",
   "execution_count": 1,
   "metadata": {},
   "outputs": [],
   "source": [
    "import numpy as np\n",
    "import matplotlib.pyplot as plt\n",
    "from mpl_toolkits.mplot3d import Axes3D\n",
    "from matplotlib.animation import FuncAnimation\n",
    "from ipywidgets import interact, interactive, fixed, interact_manual\n",
    "import ipywidgets as widgets\n",
    "import networkx as nx\n",
    "import random\n",
    "from pyswarm import pso"
   ]
  },
  {
   "cell_type": "code",
   "execution_count": null,
   "metadata": {},
   "outputs": [],
   "source": []
  },
  {
   "cell_type": "code",
   "execution_count": 26,
   "metadata": {},
   "outputs": [
    {
     "data": {
      "image/png": "[encoded data removed]",
      "text/plain": [
       "<Figure size 432x288 with 1 Axes>"
      ]
     },
     "metadata": {
      "needs_background": "light"
     },
     "output_type": "display_data"
    },
    {
     "name": "stdout",
     "output_type": "stream",
     "text": [
      "[  2.12765957  12.76595745  80.85106383 100.          91.4893617\n",
      "  87.23404255  78.72340426  74.46808511  72.34042553  72.34042553\n",
      "  72.34042553  65.95744681  57.44680851  55.31914894  51.06382979\n",
      "  46.80851064  42.55319149  38.29787234  36.17021277  34.04255319\n",
      "  34.04255319  31.91489362  27.65957447  27.65957447  27.65957447\n",
      "  27.65957447  25.53191489  25.53191489  25.53191489]\n"
     ]
    }
   ],
   "source": [
    "def sir(G,p,q,num_infected):\n",
    "    n = nx.number_of_nodes(G)\n",
    "    I = np.unique(np.random.choice(range(n), num_infected, replace=False))\n",
    "    A = np.array(nx.to_numpy_matrix(G))\n",
    "    S = np.unique(np.delete(np.arange(n),I))\n",
    "    R = np.array([])\n",
    "    numberofI = np.array([num_infected])\n",
    "    for i in range(28):# google trend\n",
    "        if len(R) == 0:\n",
    "            prob = np.triu((np.random.rand(n,n)), 1)\n",
    "            prob = np.mat(prob + prob.T)\n",
    "            B = A+0 # this matrix is adjacency matrix for nodes in I with their neighbours\n",
    "            B[S.astype(int),:] = 0  #row's indexes are infected nodes, columns are susceptible or recover\n",
    "            B[:,I.astype(int)] = 0\n",
    "            prob_infected = np.array(B)*np.array(prob) # entries shows the probability theyre infected\n",
    "            infct = 1*(prob_infected>1-p)\n",
    "            newly_infected = np.array(np.where(np.sum(infct,axis=0)>0)[0])\n",
    "            I1 = np.unique(np.concatenate((np.array(I),newly_infected),axis = None)) #infected for temp before - R\n",
    "            S = np.delete(np.arange(n),I1)\n",
    "    #this is done for Infected nodes, infecting their neighbors\n",
    "    #next, is infected nodes that recover\n",
    "    #we create a 1 Dimensional array with the number of entries the same as no of infected (updated)\n",
    "    #the input for this array is random number from 0 to 1\n",
    "    #when it exceeds q, the node is recovered and no longer infecting others\n",
    "            recover_array = np.random.rand(I.size)\n",
    "            R = I[(recover_array>1-q)]\n",
    "            I = np.array(list(set(I1.tolist()) - set(R.tolist())))\n",
    "            S = S\n",
    "            numberofI = np.append(numberofI,I.size)\n",
    "        else:\n",
    "            prob = np.triu((np.random.rand(n,n)), 1)\n",
    "            prob = np.mat(prob + prob.T)\n",
    "            B = A+0 # this matrix is adjacency matrix for nodes in I with their neighbours\n",
    "            B[S.astype(int),:] = 0 #row's indexes are infected nodes, columns are susceptible or recover\n",
    "            B[:,I.astype(int)] = 0\n",
    "            B[R.astype(int),:] = 0\n",
    "            B[:,R.astype(int)] = 0\n",
    "            prob_infected = np.array(B)*np.array(prob) # entries shows the probability theyre infected\n",
    "            infct = 1*(prob_infected>1-p)\n",
    "            newly_infected = np.array(np.where(np.sum(infct,axis=0)>0)[0])\n",
    "            I1 = np.unique(np.concatenate((np.array(I),newly_infected),axis = None)) #infected for temp before - R\n",
    "            S = np.delete(np.arange(n),I1)\n",
    "            recover_array = np.random.rand(I.size)\n",
    "            R = np.append(R,I[(recover_array>1-q)])\n",
    "            I = np.array(list(set(I1.tolist()) - set(R.tolist())))\n",
    "            S = S\n",
    "            numberofI = np.append(numberofI,I.size)\n",
    "    normalized_I = (numberofI)/max(numberofI)*100\n",
    "    return normalized_I\n",
    "\n",
    "#a = sir(nx.erdos_renyi_graph(50,0.4),0.5,0.5,25)\n",
    "\n",
    "a = sir(nx.watts_strogatz_graph(50,40,0),0.1,0.1,10)\n",
    "plt.plot(a)\n",
    "plt.show()\n",
    "print(sir(nx.complete_graph(50),0.2,0.05,1))\n"
   ]
  },
  {
   "cell_type": "code",
   "execution_count": null,
   "metadata": {},
   "outputs": [],
   "source": []
  },
  {
   "cell_type": "markdown",
   "metadata": {},
   "source": [
    "PSO"
   ]
  },
  {
   "cell_type": "code",
   "execution_count": 29,
   "metadata": {},
   "outputs": [
    {
     "name": "stderr",
     "output_type": "stream",
     "text": [
      "/anaconda3/lib/python3.7/site-packages/ipykernel_launcher.py:42: DeprecationWarning: using a non-integer array as obj in delete will result in an error in the future\n"
     ]
    },
    {
     "name": "stdout",
     "output_type": "stream",
     "text": [
      "Stopping search: Swarm best objective change less than 1e-08\n",
      "Minimum p,q =  [0.65468476 0.04726099]\n",
      "error =  0.017013232514180392\n"
     ]
    }
   ],
   "source": [
    "G = nx.watts_strogatz_graph(50, 10, 0.5) \n",
    "#29 days of FIFA world cup trend\n",
    "google_trend = [65,\n",
    "53,\n",
    "64,\n",
    "57,\n",
    "62,\n",
    "66,\n",
    "69,\n",
    "65,\n",
    "63,\n",
    "75,\n",
    "54,\n",
    "50,\n",
    "73,\n",
    "100,\n",
    "59,\n",
    "46,\n",
    "45,\n",
    "46,\n",
    "45,\n",
    "44,\n",
    "58,\n",
    "63,\n",
    "45,\n",
    "41,\n",
    "42,\n",
    "46,\n",
    "50,\n",
    "60,\n",
    "55]\n",
    "def f(X):\n",
    "    p = X[0]\n",
    "    q = X[1]\n",
    "    return np.sum(sir(G,p,q,int(0.65*50))-google_trend)**2\n",
    "\n",
    "lb = [0, 0] # lower bounds for p and q\n",
    "ub = [1, 1] # upper bounds for p and q\n",
    "\n",
    "xopt, fopt = pso(f, lb, ub)\n",
    "\n",
    "print(\"Minimum p,q = \", xopt)\n",
    "print(\"error = \", fopt)"
   ]
  },
  {
   "cell_type": "code",
   "execution_count": null,
   "metadata": {},
   "outputs": [],
   "source": []
  }
 ],
 "metadata": {
  "kernelspec": {
   "display_name": "Python 3",
   "language": "python",
   "name": "python3"
  },
  "language_info": {
   "codemirror_mode": {
    "name": "ipython",
    "version": 3
   },
   "file_extension": ".py",
   "mimetype": "text/x-python",
   "name": "python",
   "nbconvert_exporter": "python",
   "pygments_lexer": "ipython3",
   "version": "3.6.8"
  }
 },
 "nbformat": 4,
 "nbformat_minor": 2
}
