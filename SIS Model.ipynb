{
 "cells": [
  {
   "cell_type": "code",
   "execution_count": 2,
   "metadata": {},
   "outputs": [],
   "source": [
    "import numpy as np\n",
    "import matplotlib.pyplot as plt\n",
    "from mpl_toolkits.mplot3d import Axes3D\n",
    "from matplotlib.animation import FuncAnimation\n",
    "from ipywidgets import interact, interactive, fixed, interact_manual\n",
    "import ipywidgets as widgets\n",
    "import networkx as nx\n",
    "import random\n",
    "from pyswarm import pso"
   ]
  },
  {
   "cell_type": "code",
   "execution_count": 8,
   "metadata": {},
   "outputs": [
    {
     "data": {
      "image/png": "[encoded data removed]",
      "text/plain": [
       "<Figure size 432x288 with 1 Axes>"
      ]
     },
     "metadata": {
      "needs_background": "light"
     },
     "output_type": "display_data"
    }
   ],
   "source": [
    "def sis(G,p,q,num_infected):\n",
    "    n = nx.number_of_nodes(G)\n",
    "    I = np.unique(np.random.choice(range(n), num_infected, replace=False))\n",
    "    A = np.array(nx.to_numpy_matrix(G))\n",
    "    S = np.unique(np.delete(np.arange(n),I))\n",
    "    S1 = np.array([])\n",
    "    numberofI = np.array([num_infected])\n",
    "    for i in range(51):# google trend\n",
    "        if len(S1) == 0:\n",
    "            prob = np.triu((np.random.rand(n,n)), 1)\n",
    "            prob = np.mat(prob + prob.T)\n",
    "            B = A+0 # this matrix is adjacency matrix for nodes in I with their neighbours\n",
    "            B[S.astype(int),:] = 0  #row's indexes are infected nodes, columns are susceptible or recover\n",
    "            B[:,I.astype(int)] = 0\n",
    "            prob_infected = np.array(B)*np.array(prob) # entries shows the probability theyre infected\n",
    "            infct = 1*(prob_infected>1-p)\n",
    "            newly_infected = np.array(np.where(np.sum(infct,axis=0)>0)[0])\n",
    "            I1 = np.unique(np.concatenate((np.array(I),newly_infected),axis = None)) #infected for temp before - R\n",
    "            S = np.delete(np.arange(n),I1)\n",
    "    #this is done for Infected nodes, infecting their neighbors\n",
    "    #next, is infected nodes that recover\n",
    "    #we create a 1 Dimensional array with the number of entries the same as no of infected (updated)\n",
    "    #the input for this array is random number from 0 to 1\n",
    "    #when it exceeds q, the node is recovered and no longer infecting others\n",
    "            recover_array = np.random.rand(I.size)\n",
    "            S1 = I[(recover_array>1-q)]\n",
    "            I = np.array(list(set(I1.tolist()) - set(S1.tolist())))\n",
    "            S = np.unique(np.concatenate((S1,S)))\n",
    "            numberofI = np.append(numberofI,I.size)\n",
    "        else:\n",
    "            prob = np.triu((np.random.rand(n,n)), 1)\n",
    "            prob = np.mat(prob + prob.T)\n",
    "            B = A+0 # this matrix is adjacency matrix for nodes in I with their neighbours\n",
    "            B[S.astype(int),:] = 0 #row's indexes are infected nodes, columns are susceptible or recover\n",
    "            B[:,I.astype(int)] = 0\n",
    "            B[S1.astype(int),:] = 0\n",
    "            B[:,S1.astype(int)] = 0\n",
    "            prob_infected = np.array(B)*np.array(prob) # entries shows the probability theyre infected\n",
    "            infct = 1*(prob_infected>1-p)\n",
    "            newly_infected = np.array(np.where(np.sum(infct,axis=0)>0)[0])\n",
    "            I1 = np.unique(np.concatenate((np.array(I),newly_infected),axis = None)) #infected for temp before - R\n",
    "            S = np.delete(np.arange(n),I1)\n",
    "            recover_array = np.random.rand(I.size)\n",
    "            S1 = I[(recover_array>1-q)]\n",
    "            I = np.array(list(set(I1.tolist()) - set(S1.tolist())))\n",
    "            S = np.unique(np.concatenate((S1,S)))\n",
    "            numberofI = np.append(numberofI,I.size)\n",
    "    normalized_I = (numberofI)/max(numberofI)*100\n",
    "    return normalized_I\n",
    "\n",
    "G = nx.random_graphs.powerlaw_cluster_graph(505, 22, 1) \n",
    "a = sis(G,1,0.2,100)\n",
    "plt.plot(a)\n",
    "plt.show()\n"
   ]
  },
  {
   "cell_type": "markdown",
   "metadata": {},
   "source": [
    "PSO"
   ]
  },
  {
   "cell_type": "code",
   "execution_count": 7,
   "metadata": {},
   "outputs": [
    {
     "name": "stdout",
     "output_type": "stream",
     "text": [
      "52\n"
     ]
    },
    {
     "name": "stderr",
     "output_type": "stream",
     "text": [
      "/anaconda3/lib/python3.7/site-packages/ipykernel_launcher.py:42: DeprecationWarning: using a non-integer array as obj in delete will result in an error in the future\n",
      "/anaconda3/lib/python3.7/site-packages/ipykernel_launcher.py:19: DeprecationWarning: using a non-integer array as obj in delete will result in an error in the future\n"
     ]
    },
    {
     "ename": "KeyboardInterrupt",
     "evalue": "",
     "output_type": "error",
     "traceback": [
      "\u001b[0;31m---------------------------------------------------------------------------\u001b[0m",
      "\u001b[0;31mKeyboardInterrupt\u001b[0m                         Traceback (most recent call last)",
      "\u001b[0;32m<ipython-input-7-cd513c5ca9e3>\u001b[0m in \u001b[0;36m<module>\u001b[0;34m()\u001b[0m\n\u001b[1;32m     62\u001b[0m \u001b[0mub\u001b[0m \u001b[0;34m=\u001b[0m \u001b[0;34m[\u001b[0m\u001b[0;36m1\u001b[0m\u001b[0;34m,\u001b[0m \u001b[0;36m1\u001b[0m\u001b[0;34m]\u001b[0m \u001b[0;31m# upper bounds for p and q\u001b[0m\u001b[0;34m\u001b[0m\u001b[0m\n\u001b[1;32m     63\u001b[0m \u001b[0;34m\u001b[0m\u001b[0m\n\u001b[0;32m---> 64\u001b[0;31m \u001b[0mxopt\u001b[0m\u001b[0;34m,\u001b[0m \u001b[0mfopt\u001b[0m \u001b[0;34m=\u001b[0m \u001b[0mpso\u001b[0m\u001b[0;34m(\u001b[0m\u001b[0mf\u001b[0m\u001b[0;34m,\u001b[0m \u001b[0mlb\u001b[0m\u001b[0;34m,\u001b[0m \u001b[0mub\u001b[0m\u001b[0;34m)\u001b[0m\u001b[0;34m\u001b[0m\u001b[0m\n\u001b[0m\u001b[1;32m     65\u001b[0m \u001b[0;34m\u001b[0m\u001b[0m\n\u001b[1;32m     66\u001b[0m \u001b[0mprint\u001b[0m\u001b[0;34m(\u001b[0m\u001b[0;34m\"Minimum p,q = \"\u001b[0m\u001b[0;34m,\u001b[0m \u001b[0mxopt\u001b[0m\u001b[0;34m)\u001b[0m\u001b[0;34m\u001b[0m\u001b[0m\n",
      "\u001b[0;32m/anaconda3/lib/python3.7/site-packages/pyswarm/pso.py\u001b[0m in \u001b[0;36mpso\u001b[0;34m(func, lb, ub, ieqcons, f_ieqcons, args, kwargs, swarmsize, omega, phip, phig, maxiter, minstep, minfunc, debug)\u001b[0m\n\u001b[1;32m    143\u001b[0m             \u001b[0mx\u001b[0m\u001b[0;34m[\u001b[0m\u001b[0mi\u001b[0m\u001b[0;34m,\u001b[0m \u001b[0mmark1\u001b[0m\u001b[0;34m]\u001b[0m \u001b[0;34m=\u001b[0m \u001b[0mlb\u001b[0m\u001b[0;34m[\u001b[0m\u001b[0mmark1\u001b[0m\u001b[0;34m]\u001b[0m\u001b[0;34m\u001b[0m\u001b[0m\n\u001b[1;32m    144\u001b[0m             \u001b[0mx\u001b[0m\u001b[0;34m[\u001b[0m\u001b[0mi\u001b[0m\u001b[0;34m,\u001b[0m \u001b[0mmark2\u001b[0m\u001b[0;34m]\u001b[0m \u001b[0;34m=\u001b[0m \u001b[0mub\u001b[0m\u001b[0;34m[\u001b[0m\u001b[0mmark2\u001b[0m\u001b[0;34m]\u001b[0m\u001b[0;34m\u001b[0m\u001b[0m\n\u001b[0;32m--> 145\u001b[0;31m             \u001b[0mfx\u001b[0m \u001b[0;34m=\u001b[0m \u001b[0mobj\u001b[0m\u001b[0;34m(\u001b[0m\u001b[0mx\u001b[0m\u001b[0;34m[\u001b[0m\u001b[0mi\u001b[0m\u001b[0;34m,\u001b[0m \u001b[0;34m:\u001b[0m\u001b[0;34m]\u001b[0m\u001b[0;34m)\u001b[0m\u001b[0;34m\u001b[0m\u001b[0m\n\u001b[0m\u001b[1;32m    146\u001b[0m \u001b[0;34m\u001b[0m\u001b[0m\n\u001b[1;32m    147\u001b[0m             \u001b[0;31m# Compare particle's best position (if constraints are satisfied)\u001b[0m\u001b[0;34m\u001b[0m\u001b[0;34m\u001b[0m\u001b[0m\n",
      "\u001b[0;32m/anaconda3/lib/python3.7/site-packages/pyswarm/pso.py\u001b[0m in \u001b[0;36m<lambda>\u001b[0;34m(x)\u001b[0m\n\u001b[1;32m     72\u001b[0m \u001b[0;34m\u001b[0m\u001b[0m\n\u001b[1;32m     73\u001b[0m     \u001b[0;31m# Check for constraint function(s) #########################################\u001b[0m\u001b[0;34m\u001b[0m\u001b[0;34m\u001b[0m\u001b[0m\n\u001b[0;32m---> 74\u001b[0;31m     \u001b[0mobj\u001b[0m \u001b[0;34m=\u001b[0m \u001b[0;32mlambda\u001b[0m \u001b[0mx\u001b[0m\u001b[0;34m:\u001b[0m \u001b[0mfunc\u001b[0m\u001b[0;34m(\u001b[0m\u001b[0mx\u001b[0m\u001b[0;34m,\u001b[0m \u001b[0;34m*\u001b[0m\u001b[0margs\u001b[0m\u001b[0;34m,\u001b[0m \u001b[0;34m**\u001b[0m\u001b[0mkwargs\u001b[0m\u001b[0;34m)\u001b[0m\u001b[0;34m\u001b[0m\u001b[0m\n\u001b[0m\u001b[1;32m     75\u001b[0m     \u001b[0;32mif\u001b[0m \u001b[0mf_ieqcons\u001b[0m \u001b[0;32mis\u001b[0m \u001b[0;32mNone\u001b[0m\u001b[0;34m:\u001b[0m\u001b[0;34m\u001b[0m\u001b[0m\n\u001b[1;32m     76\u001b[0m         \u001b[0;32mif\u001b[0m \u001b[0;32mnot\u001b[0m \u001b[0mlen\u001b[0m\u001b[0;34m(\u001b[0m\u001b[0mieqcons\u001b[0m\u001b[0;34m)\u001b[0m\u001b[0;34m:\u001b[0m\u001b[0;34m\u001b[0m\u001b[0m\n",
      "\u001b[0;32m<ipython-input-7-cd513c5ca9e3>\u001b[0m in \u001b[0;36mf\u001b[0;34m(X)\u001b[0m\n\u001b[1;32m     57\u001b[0m     \u001b[0mp\u001b[0m \u001b[0;34m=\u001b[0m \u001b[0mX\u001b[0m\u001b[0;34m[\u001b[0m\u001b[0;36m0\u001b[0m\u001b[0;34m]\u001b[0m\u001b[0;34m\u001b[0m\u001b[0m\n\u001b[1;32m     58\u001b[0m     \u001b[0mq\u001b[0m \u001b[0;34m=\u001b[0m \u001b[0mX\u001b[0m\u001b[0;34m[\u001b[0m\u001b[0;36m1\u001b[0m\u001b[0;34m]\u001b[0m\u001b[0;34m\u001b[0m\u001b[0m\n\u001b[0;32m---> 59\u001b[0;31m     \u001b[0;32mreturn\u001b[0m \u001b[0mnp\u001b[0m\u001b[0;34m.\u001b[0m\u001b[0msum\u001b[0m\u001b[0;34m(\u001b[0m\u001b[0msis\u001b[0m\u001b[0;34m(\u001b[0m\u001b[0mG\u001b[0m\u001b[0;34m,\u001b[0m\u001b[0mp\u001b[0m\u001b[0;34m,\u001b[0m\u001b[0mq\u001b[0m\u001b[0;34m,\u001b[0m\u001b[0mint\u001b[0m\u001b[0;34m(\u001b[0m\u001b[0;36m0.67\u001b[0m\u001b[0;34m*\u001b[0m\u001b[0;36m303\u001b[0m\u001b[0;34m)\u001b[0m\u001b[0;34m)\u001b[0m\u001b[0;34m-\u001b[0m\u001b[0mgoogle_trend\u001b[0m\u001b[0;34m)\u001b[0m\u001b[0;34m**\u001b[0m\u001b[0;36m2\u001b[0m\u001b[0;34m\u001b[0m\u001b[0m\n\u001b[0m\u001b[1;32m     60\u001b[0m \u001b[0;34m\u001b[0m\u001b[0m\n\u001b[1;32m     61\u001b[0m \u001b[0mlb\u001b[0m \u001b[0;34m=\u001b[0m \u001b[0;34m[\u001b[0m\u001b[0;36m0\u001b[0m\u001b[0;34m,\u001b[0m \u001b[0;36m0\u001b[0m\u001b[0;34m]\u001b[0m \u001b[0;31m# lower bounds for p and q\u001b[0m\u001b[0;34m\u001b[0m\u001b[0m\n",
      "\u001b[0;32m<ipython-input-6-c003ccbb2267>\u001b[0m in \u001b[0;36msis\u001b[0;34m(G, p, q, num_infected)\u001b[0m\n\u001b[1;32m     29\u001b[0m             \u001b[0mnumberofI\u001b[0m \u001b[0;34m=\u001b[0m \u001b[0mnp\u001b[0m\u001b[0;34m.\u001b[0m\u001b[0mappend\u001b[0m\u001b[0;34m(\u001b[0m\u001b[0mnumberofI\u001b[0m\u001b[0;34m,\u001b[0m\u001b[0mI\u001b[0m\u001b[0;34m.\u001b[0m\u001b[0msize\u001b[0m\u001b[0;34m)\u001b[0m\u001b[0;34m\u001b[0m\u001b[0m\n\u001b[1;32m     30\u001b[0m         \u001b[0;32melse\u001b[0m\u001b[0;34m:\u001b[0m\u001b[0;34m\u001b[0m\u001b[0m\n\u001b[0;32m---> 31\u001b[0;31m             \u001b[0mprob\u001b[0m \u001b[0;34m=\u001b[0m \u001b[0mnp\u001b[0m\u001b[0;34m.\u001b[0m\u001b[0mtriu\u001b[0m\u001b[0;34m(\u001b[0m\u001b[0;34m(\u001b[0m\u001b[0mnp\u001b[0m\u001b[0;34m.\u001b[0m\u001b[0mrandom\u001b[0m\u001b[0;34m.\u001b[0m\u001b[0mrand\u001b[0m\u001b[0;34m(\u001b[0m\u001b[0mn\u001b[0m\u001b[0;34m,\u001b[0m\u001b[0mn\u001b[0m\u001b[0;34m)\u001b[0m\u001b[0;34m)\u001b[0m\u001b[0;34m,\u001b[0m \u001b[0;36m1\u001b[0m\u001b[0;34m)\u001b[0m\u001b[0;34m\u001b[0m\u001b[0m\n\u001b[0m\u001b[1;32m     32\u001b[0m             \u001b[0mprob\u001b[0m \u001b[0;34m=\u001b[0m \u001b[0mnp\u001b[0m\u001b[0;34m.\u001b[0m\u001b[0mmat\u001b[0m\u001b[0;34m(\u001b[0m\u001b[0mprob\u001b[0m \u001b[0;34m+\u001b[0m \u001b[0mprob\u001b[0m\u001b[0;34m.\u001b[0m\u001b[0mT\u001b[0m\u001b[0;34m)\u001b[0m\u001b[0;34m\u001b[0m\u001b[0m\n\u001b[1;32m     33\u001b[0m             \u001b[0mB\u001b[0m \u001b[0;34m=\u001b[0m \u001b[0mA\u001b[0m\u001b[0;34m+\u001b[0m\u001b[0;36m0\u001b[0m \u001b[0;31m# this matrix is adjacency matrix for nodes in I with their neighbours\u001b[0m\u001b[0;34m\u001b[0m\u001b[0m\n",
      "\u001b[0;31mKeyboardInterrupt\u001b[0m: "
     ]
    }
   ],
   "source": [
    "G = nx.random_graphs.powerlaw_cluster_graph(303,22,1)\n",
    "#29 days of FIFA world cup trend\n",
    "google_trend = [67,\n",
    "80,\n",
    "80,\n",
    "78,\n",
    "63,\n",
    "62,\n",
    "79,\n",
    "100,\n",
    "89,\n",
    "72,\n",
    "79,\n",
    "70,\n",
    "71,\n",
    "69,\n",
    "61,\n",
    "59,\n",
    "85,\n",
    "87,\n",
    "71,\n",
    "62,\n",
    "74,\n",
    "67,\n",
    "67,\n",
    "61,\n",
    "60,\n",
    "55,\n",
    "56,\n",
    "58,\n",
    "58,\n",
    "80,\n",
    "72,\n",
    "62,\n",
    "58,\n",
    "58,\n",
    "77,\n",
    "73,\n",
    "65,\n",
    "67,\n",
    "61,\n",
    "81,\n",
    "90,\n",
    "74,\n",
    "66,\n",
    "60,\n",
    "61,\n",
    "67,\n",
    "57,\n",
    "58,\n",
    "57,\n",
    "66,\n",
    "84,\n",
    "69]\n",
    "print(len(google_trend))\n",
    "def f(X):\n",
    "    p = X[0]\n",
    "    q = X[1]\n",
    "    return np.sum(sis(G,p,q,int(0.67*303))-google_trend)**2\n",
    "\n",
    "lb = [0, 0] # lower bounds for p and q\n",
    "ub = [1, 1] # upper bounds for p and q\n",
    "\n",
    "xopt, fopt = pso(f, lb, ub)\n",
    "\n",
    "print(\"Minimum p,q = \", xopt)\n",
    "print(\"error = \", fopt)\n",
    "x = range(52)\n",
    "a = sis(G,xopt[0],xopt[1],int(0.34*505))\n",
    "plt.plot(x,a)\n",
    "plt.plot(x,google_trend)\n",
    "plt.plot(x,a,linestyle='--',marker='.',color='red',label='SIS Simulation')\n",
    "plt.plot(x,google_trend,marker='.',color='blue',label='Google Trend Data')\n",
    "plt.xlabel(\"Day(s) Passed\")\n",
    "plt.ylabel('Number of people search for \"Donald Trump\"')\n",
    "plt.legend()\n",
    "plt.show()"
   ]
  },
  {
   "cell_type": "code",
   "execution_count": null,
   "metadata": {},
   "outputs": [],
   "source": []
  },
  {
   "cell_type": "code",
   "execution_count": null,
   "metadata": {},
   "outputs": [],
   "source": []
  }
 ],
 "metadata": {
  "kernelspec": {
   "display_name": "Python 3",
   "language": "python",
   "name": "python3"
  },
  "language_info": {
   "codemirror_mode": {
    "name": "ipython",
    "version": 3
   },
   "file_extension": ".py",
   "mimetype": "text/x-python",
   "name": "python",
   "nbconvert_exporter": "python",
   "pygments_lexer": "ipython3",
   "version": "3.7.0"
  }
 },
 "nbformat": 4,
 "nbformat_minor": 2
}
